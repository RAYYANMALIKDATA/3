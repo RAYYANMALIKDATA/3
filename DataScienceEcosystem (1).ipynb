{
 "cells": [
  {
   "cell_type": "markdown",
   "id": "d0bdc9eb-e156-4f1c-b228-ca8cb17d612e",
   "metadata": {},
   "source": [
    "# Data Science Tools and Ecosystem"
   ]
  },
  {
   "cell_type": "markdown",
   "id": "dd43733a-7180-4902-af1a-38b2cc8b59d5",
   "metadata": {},
   "source": [
    "In this notebook, Data Science Tools and Ecosystem are summarized"
   ]
  },
  {
   "cell_type": "markdown",
   "id": "631b96d6-983c-42da-8d2d-b53ea517d9b6",
   "metadata": {},
   "source": [
    "Some of the popular languages that Data Scientists use are:\n",
    "1. Python\n",
    "2. R\n",
    "3. SQL"
   ]
  },
  {
   "cell_type": "markdown",
   "id": "565a1e77-a567-4c38-a09f-0c128f43fd50",
   "metadata": {},
   "source": [
    "### Objectives:\n",
    "- Understand key data science libraries and their usage\n",
    "- Learn about data visualization tools in Python\n",
    "- introduction to machine learning concepts and algorithms\n",
    "- Explore best practices in data analysis"
   ]
  },
  {
   "cell_type": "markdown",
   "id": "a545f783-914b-41b9-afce-d5b59eb37dd9",
   "metadata": {},
   "source": [
    "Some of the commonly used libraries used by Data Scientists include:\n",
    "1. Pandas\n",
    "2. NumPy\n",
    "3. Matplotlib"
   ]
  },
  {
   "cell_type": "markdown",
   "id": "41ceee62-b566-47f6-9e97-5345215c178b",
   "metadata": {},
   "source": [
    "| Data Science Tools |\n",
    "|--------------------|\n",
    "| Python             |\n",
    "| Jupyter Notebook   |\n",
    "| R                  |\n",
    "| SQL                "
   ]
  },
  {
   "cell_type": "markdown",
   "id": "b6f75f43-e942-44ce-9274-96589943e55d",
   "metadata": {},
   "source": [
    "### Below are a few examples of evaluating arithmetic expressions in Python"
   ]
  },
  {
   "cell_type": "code",
   "execution_count": 13,
   "id": "ab3983d3-d9ee-4b8e-a6b0-c97e7595d6ab",
   "metadata": {},
   "outputs": [
    {
     "data": {
      "text/plain": [
       "17"
      ]
     },
     "execution_count": 13,
     "metadata": {},
     "output_type": "execute_result"
    }
   ],
   "source": [
    "# This a simple arithmetic expression to multiply then add integers\n",
    "result = (3*4)+5\n",
    "result"
   ]
  },
  {
   "cell_type": "code",
   "execution_count": 16,
   "id": "8e91a929-e893-4fc7-beb9-a133b55f9c9c",
   "metadata": {},
   "outputs": [
    {
     "data": {
      "text/plain": [
       "3.3333333333333335"
      ]
     },
     "execution_count": 16,
     "metadata": {},
     "output_type": "execute_result"
    }
   ],
   "source": [
    "# This will convert 200 minutes to hours by diving by 60\n",
    "minutes = 200\n",
    "hours = minutes / 60\n",
    "hours"
   ]
  },
  {
   "cell_type": "markdown",
   "id": "b0e1de91-d2a5-4581-b036-56c5944199f2",
   "metadata": {},
   "source": [
    "## Lakshmi Holla\n",
    "Rayyan Malik"
   ]
  }
 ],
 "metadata": {
  "kernelspec": {
   "display_name": "Python 3 (ipykernel)",
   "language": "python",
   "name": "python3"
  },
  "language_info": {
   "codemirror_mode": {
    "name": "ipython",
    "version": 3
   },
   "file_extension": ".py",
   "mimetype": "text/x-python",
   "name": "python",
   "nbconvert_exporter": "python",
   "pygments_lexer": "ipython3",
   "version": "3.12.8"
  }
 },
 "nbformat": 4,
 "nbformat_minor": 5
}
